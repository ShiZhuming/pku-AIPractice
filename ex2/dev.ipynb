{
 "nbformat": 4,
 "nbformat_minor": 2,
 "metadata": {
  "language_info": {
   "name": "python",
   "codemirror_mode": {
    "name": "ipython",
    "version": 3
   },
   "version": "3.6.7-final"
  },
  "orig_nbformat": 2,
  "file_extension": ".py",
  "mimetype": "text/x-python",
  "name": "python",
  "npconvert_exporter": "python",
  "pygments_lexer": "ipython3",
  "version": 3,
  "kernelspec": {
   "name": "python36764bitfea43b0e40d34535bec856bc28b38585",
   "display_name": "Python 3.6.7 64-bit"
  }
 },
 "cells": [
  {
   "cell_type": "code",
   "execution_count": 14,
   "metadata": {},
   "outputs": [],
   "source": [
    "import numpy as np\n",
    "import cv2 as cv\n",
    "import matplotlib.pyplot as plt"
   ]
  },
  {
   "cell_type": "code",
   "execution_count": 15,
   "metadata": {},
   "outputs": [
    {
     "output_type": "stream",
     "name": "stdout",
     "text": "2051\n"
    }
   ],
   "source": [
    "f = open('train-images.idx3-ubyte','rb')\n",
    "file = f.read()\n",
    "magic_number = file[:4]\n",
    "print(int.from_bytes(magic_number, byteorder='big', signed=True))\n",
    "# print(ord(magic_number))\n",
    "# int(magic_number.decode('hex'),16)"
   ]
  },
  {
   "cell_type": "code",
   "execution_count": 16,
   "metadata": {},
   "outputs": [],
   "source": [
    "training = []\n",
    "for count in range(30):\n",
    "    image = [item for item in file[16 + 784 * count : 16 + 784 * (count + 1)]]\n",
    "    # image_np = np.array(image, dtype = np.uint8).reshape(28,28,1)\n",
    "    # sift = cv.xfeatures2d.SIFT_create(20)\n",
    "    # kp, des = sift.detectAndCompute(image_np,None)\n",
    "    # training.append(des)\n",
    "    # print(kp)\n",
    "    # plt.ion()\n",
    "    # plt.imshow(image_np.reshape(28, 28))\n",
    "    # plt.pause(1)\n",
    "    # drawkp = cv.drawKeypoints(image_np,kp,image_np)\n",
    "    # plt.imshow(drawkp)\n",
    "    # plt.pause(5)\n",
    "    image_np = np.array(image, dtype = np.uint8)\n",
    "    training.append(image_np)\n",
    "training_np = np.array(training)\n",
    "\n",
    ""
   ]
  },
  {
   "cell_type": "code",
   "execution_count": 23,
   "metadata": {},
   "outputs": [
    {
     "output_type": "stream",
     "name": "stdout",
     "text": "[[0 0 0 ... 0 0 0]\n [0 0 0 ... 0 0 0]\n [0 0 0 ... 0 0 0]\n ...\n [0 0 0 ... 0 0 0]\n [0 0 0 ... 0 0 0]\n [0 0 0 ... 0 0 0]]\n"
    }
   ],
   "source": [
    "print(training_np)"
   ]
  },
  {
   "cell_type": "code",
   "execution_count": 17,
   "metadata": {},
   "outputs": [],
   "source": [
    "from sklearn.cluster import KMeans\n",
    "kmeans = KMeans(n_clusters=10)\n",
    "fit = kmeans.fit(training_np)\n",
    "# y_pred = KMeans(n_clusters=2, random_state=9).fit_predict(X)"
   ]
  },
  {
   "cell_type": "code",
   "execution_count": 19,
   "metadata": {},
   "outputs": [
    {
     "output_type": "stream",
     "name": "stdout",
     "text": "KMeans(algorithm='auto', copy_x=True, init='k-means++', max_iter=300,\n       n_clusters=10, n_init=10, n_jobs=None, precompute_distances='auto',\n       random_state=None, tol=0.0001, verbose=0)\n"
    }
   ],
   "source": [
    "print(fit)"
   ]
  },
  {
   "cell_type": "code",
   "execution_count": 30,
   "metadata": {},
   "outputs": [],
   "source": [
    "import pandas as pd"
   ]
  },
  {
   "cell_type": "code",
   "execution_count": 31,
   "metadata": {},
   "outputs": [
    {
     "output_type": "error",
     "ename": "NameError",
     "evalue": "name 'label' is not defined",
     "traceback": [
      "\u001b[0;31m---------------------------------------------------------------------------\u001b[0m",
      "\u001b[0;31mNameError\u001b[0m                                 Traceback (most recent call last)",
      "\u001b[0;32m<ipython-input-31-a6052abe47f4>\u001b[0m in \u001b[0;36m<module>\u001b[0;34m\u001b[0m\n\u001b[0;32m----> 1\u001b[0;31m \u001b[0mprint\u001b[0m\u001b[0;34m(\u001b[0m\u001b[0mfit\u001b[0m\u001b[0;34m[\u001b[0m\u001b[0mlabel\u001b[0m\u001b[0;34m.\u001b[0m\u001b[0mravel\u001b[0m\u001b[0;34m(\u001b[0m\u001b[0;34m)\u001b[0m\u001b[0;34m==\u001b[0m\u001b[0;36m1\u001b[0m\u001b[0;34m]\u001b[0m\u001b[0;34m)\u001b[0m\u001b[0;34m\u001b[0m\u001b[0;34m\u001b[0m\u001b[0m\n\u001b[0m",
      "\u001b[0;31mNameError\u001b[0m: name 'label' is not defined"
     ]
    }
   ],
   "source": [
    "# print(fit[label.ravel()==1])"
   ]
  },
  {
   "cell_type": "code",
   "execution_count": 33,
   "metadata": {},
   "outputs": [
    {
     "output_type": "stream",
     "name": "stdout",
     "text": "0    1    2    3    4    5    6    7    8    9    ...  775  776  777  778  \\\n0  0.0  0.0  0.0  0.0  0.0  0.0  0.0  0.0  0.0  0.0  ...  0.0  0.0  0.0  0.0   \n1  0.0  0.0  0.0  0.0  0.0  0.0  0.0  0.0  0.0  0.0  ...  0.0  0.0  0.0  0.0   \n2  0.0  0.0  0.0  0.0  0.0  0.0  0.0  0.0  0.0  0.0  ...  0.0  0.0  0.0  0.0   \n3  0.0  0.0  0.0  0.0  0.0  0.0  0.0  0.0  0.0  0.0  ...  0.0  0.0  0.0  0.0   \n4  0.0  0.0  0.0  0.0  0.0  0.0  0.0  0.0  0.0  0.0  ...  0.0  0.0  0.0  0.0   \n5  0.0  0.0  0.0  0.0  0.0  0.0  0.0  0.0  0.0  0.0  ...  0.0  0.0  0.0  0.0   \n6  0.0  0.0  0.0  0.0  0.0  0.0  0.0  0.0  0.0  0.0  ...  0.0  0.0  0.0  0.0   \n7  0.0  0.0  0.0  0.0  0.0  0.0  0.0  0.0  0.0  0.0  ...  0.0  0.0  0.0  0.0   \n8  0.0  0.0  0.0  0.0  0.0  0.0  0.0  0.0  0.0  0.0  ...  0.0  0.0  0.0  0.0   \n9  0.0  0.0  0.0  0.0  0.0  0.0  0.0  0.0  0.0  0.0  ...  0.0  0.0  0.0  0.0   \n\n   779  780  781  782  783  0    \n0  0.0  0.0  0.0  0.0  0.0    2  \n1  0.0  0.0  0.0  0.0  0.0    3  \n2  0.0  0.0  0.0  0.0  0.0    5  \n3  0.0  0.0  0.0  0.0  0.0    2  \n4  0.0  0.0  0.0  0.0  0.0    1  \n5  0.0  0.0  0.0  0.0  0.0    6  \n6  0.0  0.0  0.0  0.0  0.0    4  \n7  0.0  0.0  0.0  0.0  0.0    1  \n8  0.0  0.0  0.0  0.0  0.0    5  \n9  0.0  0.0  0.0  0.0  0.0    1  \n\n[10 rows x 785 columns]\n"
    }
   ],
   "source": [
    "r1=pd.Series(kmeans.labels_).value_counts()\n",
    "r2=pd.DataFrame(kmeans.cluster_centers_)\n",
    "r=pd.concat([r2,r1],axis=1)\n",
    "# r.columns=list(iris_names)\n",
    "print(r)\n",
    "r_new=pd.concat([pd.DataFrame(iris_data),pd.Series(kmeans.labels_)],axis=1)\n",
    "# print(kmeans.cluster_centers_)\n",
    "# quantity = pd.Series(kmeans.labels_).value_counts()\n",
    "# print(quantity)\n",
    "# #获取聚类之后每个聚类中心的数据\n",
    "# res0Series = pd.Series(kmeans.labels_)\n",
    "# res0 = res0Series[res0Series.values == 1]\n",
    "# print(training_np.[res0.index])\n"
   ]
  },
  {
   "cell_type": "code",
   "execution_count": 18,
   "metadata": {},
   "outputs": [],
   "source": [
    "f.close()"
   ]
  }
 ]
}