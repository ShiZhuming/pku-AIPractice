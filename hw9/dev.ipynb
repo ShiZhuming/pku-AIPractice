{
 "nbformat": 4,
 "nbformat_minor": 2,
 "metadata": {
  "language_info": {
   "name": "python",
   "codemirror_mode": {
    "name": "ipython",
    "version": 3
   },
   "version": "3.6.7-final"
  },
  "orig_nbformat": 2,
  "file_extension": ".py",
  "mimetype": "text/x-python",
  "name": "python",
  "npconvert_exporter": "python",
  "pygments_lexer": "ipython3",
  "version": 3,
  "kernelspec": {
   "name": "python36764bitfea43b0e40d34535bec856bc28b38585",
   "display_name": "Python 3.6.7 64-bit"
  }
 },
 "cells": [
  {
   "cell_type": "code",
   "execution_count": 45,
   "metadata": {},
   "outputs": [],
   "source": [
    "kernel = [\n",
    "            [0, 0, 0],\n",
    "            [1, 0, -1],\n",
    "            [1, 0, -1]]"
   ]
  },
  {
   "cell_type": "code",
   "execution_count": 46,
   "metadata": {},
   "outputs": [],
   "source": [
    "I = [\n",
    "        [0, 0, 0, 0, 0, 0],\n",
    "        [0, 0, 1, 1, 0, 0],\n",
    "        [0, 0, 1, 1, 0, 0],\n",
    "        [0, 0, 2, 2, 0, 0],\n",
    "        [0, 1, 1, 1, 1, 0],\n",
    "        [0, 0, 0, 0, 0, 0]]"
   ]
  },
  {
   "cell_type": "code",
   "execution_count": 47,
   "metadata": {},
   "outputs": [],
   "source": [
    "targetI = [\n",
    "            [-2, -2, 2, 2],\n",
    "            [-4, -4, 4, 4],\n",
    "            [-4, -3, 3, 4],\n",
    "            [-3, -2, 2, 3]]"
   ]
  },
  {
   "cell_type": "code",
   "execution_count": 48,
   "metadata": {},
   "outputs": [],
   "source": [
    "outputI = [\n",
    "            [0, 0, 0, 0],\n",
    "            [0, 0, 0, 0],\n",
    "            [0, 0, 0, 0],\n",
    "            [0, 0, 0, 0]]"
   ]
  },
  {
   "cell_type": "code",
   "execution_count": 49,
   "metadata": {},
   "outputs": [],
   "source": [
    "grad = [\n",
    "        [0, 0, 0],\n",
    "        [0, 0, 0],\n",
    "        [0, 0, 0]]"
   ]
  },
  {
   "cell_type": "code",
   "execution_count": 50,
   "metadata": {},
   "outputs": [
    {
     "output_type": "stream",
     "name": "stdout",
     "text": "[[-2, -2, 2, 2], [-3, -3, 3, 3], [-3, -2, 2, 3], [-1, 0, 0, 1]]\n"
    }
   ],
   "source": [
    "# 卷积\n",
    "for i in range(1, 5):\n",
    "    for j in range(1, 5):\n",
    "        outputI[i-1][j-1] = 0\n",
    "        for k in range(3):\n",
    "            for l in range(3):\n",
    "                outputI[i-1][j-1] += I[i-1+k][j-1+l] * kernel[k][l]\n",
    "print(outputI)"
   ]
  },
  {
   "cell_type": "code",
   "execution_count": 51,
   "metadata": {},
   "outputs": [
    {
     "output_type": "stream",
     "name": "stdout",
     "text": "1.5\n"
    }
   ],
   "source": [
    "# 计算均方差\n",
    "MSE = 0\n",
    "for i in range(4):\n",
    "    for j in range(4):\n",
    "        MSE += (targetI[i][j] - outputI[i][j])**2\n",
    "MSE = float(MSE)/16.0\n",
    "print(MSE)"
   ]
  },
  {
   "cell_type": "code",
   "execution_count": 52,
   "metadata": {},
   "outputs": [
    {
     "output_type": "stream",
     "name": "stdout",
     "text": "[[-12, 0, 12], [-8, 0, 8], [-5, 0, 5]]\n"
    }
   ],
   "source": [
    "for i in range(3):\n",
    "    for j in range(3):\n",
    "        grad[i][j] = 0\n",
    "        for k in range(4):\n",
    "            for l in range(4):\n",
    "                grad[i][j] += (targetI[k][l] - outputI[k][l])*(-1)*(I[k + i][l + j])\n",
    "print(grad)"
   ]
  },
  {
   "cell_type": "code",
   "execution_count": 53,
   "metadata": {},
   "outputs": [
    {
     "output_type": "stream",
     "name": "stdout",
     "text": "[[0.12, 0.0, -0.12], [1.08, 0.0, -1.08], [1.05, 0.0, -1.05]]\n"
    }
   ],
   "source": [
    "eta = 0.01\n",
    "for i in range(3):\n",
    "    for j in range(3):\n",
    "        kernel[i][j] -= eta * grad[i][j]\n",
    "print(kernel)"
   ]
  },
  {
   "cell_type": "code",
   "execution_count": 54,
   "metadata": {},
   "outputs": [
    {
     "output_type": "stream",
     "name": "stdout",
     "text": "[[-2.13, -2.13, 2.13, 2.13], [-3.3000000000000003, -3.3000000000000003, 3.3000000000000003, 3.3000000000000003], [-3.33, -2.2800000000000002, 2.2800000000000002, 3.33], [-1.32, -0.24, 0.24, 1.32]]\n"
    }
   ],
   "source": [
    "for i in range(1, 5):\n",
    "    for j in range(1, 5):\n",
    "        outputI[i-1][j-1] = 0\n",
    "        for k in range(3):\n",
    "            for l in range(3):\n",
    "                outputI[i-1][j-1] += I[i-1+k][j-1+l] * kernel[k][l]\n",
    "print(outputI)"
   ]
  },
  {
   "cell_type": "code",
   "execution_count": 55,
   "metadata": {},
   "outputs": [
    {
     "output_type": "stream",
     "name": "stdout",
     "text": "0.9876374999999998\n"
    }
   ],
   "source": [
    "MSE = 0\n",
    "for i in range(4):\n",
    "    for j in range(4):\n",
    "        MSE += (targetI[i][j] - outputI[i][j])**2\n",
    "MSE = float(MSE)/16.0\n",
    "print(MSE)"
   ]
  }
 ]
}