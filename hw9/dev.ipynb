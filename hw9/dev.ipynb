{
 "nbformat": 4,
 "nbformat_minor": 2,
 "metadata": {
  "language_info": {
   "name": "python",
   "codemirror_mode": {
    "name": "ipython",
    "version": 3
   },
   "version": "3.6.7-final"
  },
  "orig_nbformat": 2,
  "file_extension": ".py",
  "mimetype": "text/x-python",
  "name": "python",
  "npconvert_exporter": "python",
  "pygments_lexer": "ipython3",
  "version": 3,
  "kernelspec": {
   "name": "python36764bitfea43b0e40d34535bec856bc28b38585",
   "display_name": "Python 3.6.7 64-bit"
  }
 },
 "cells": [
  {
   "cell_type": "code",
   "execution_count": 1,
   "metadata": {},
   "outputs": [],
   "source": [
    "kernel = [\n",
    "            [0, 0, 0],\n",
    "            [1, 0, -1],\n",
    "            [1, 0, -1]]"
   ]
  },
  {
   "cell_type": "code",
   "execution_count": 2,
   "metadata": {},
   "outputs": [],
   "source": [
    "I = [\n",
    "        [0, 0, 0, 0, 0, 0],\n",
    "        [0, 0, 1, 1, 0, 0],\n",
    "        [0, 0, 1, 1, 0, 0],\n",
    "        [0, 0, 2, 2, 0, 0],\n",
    "        [0, 1, 1, 1, 1, 0],\n",
    "        [0, 0, 0, 0, 0, 0]]"
   ]
  },
  {
   "cell_type": "code",
   "execution_count": 3,
   "metadata": {},
   "outputs": [],
   "source": [
    "targetI = [\n",
    "            [-2, -2, 2, 2],\n",
    "            [-4, -4, 4, 4],\n",
    "            [-4, -3, 3, 4],\n",
    "            [-3, -2, 2, 3]]"
   ]
  },
  {
   "cell_type": "code",
   "execution_count": 4,
   "metadata": {},
   "outputs": [],
   "source": [
    "outputI = [\n",
    "            [0, 0, 0, 0],\n",
    "            [0, 0, 0, 0],\n",
    "            [0, 0, 0, 0],\n",
    "            [0, 0, 0, 0]]"
   ]
  },
  {
   "cell_type": "code",
   "execution_count": 5,
   "metadata": {},
   "outputs": [],
   "source": [
    "grad = [\n",
    "        [0, 0, 0],\n",
    "        [0, 0, 0],\n",
    "        [0, 0, 0]]"
   ]
  },
  {
   "cell_type": "code",
   "execution_count": 6,
   "metadata": {},
   "outputs": [
    {
     "output_type": "stream",
     "name": "stdout",
     "text": "[[-2, -2, 2, 2], [-3, -3, 3, 3], [-3, -2, 2, 3], [-1, 0, 0, 1]]\n"
    }
   ],
   "source": [
    "# 卷积\n",
    "for i in range(1, 5):\n",
    "    for j in range(1, 5):\n",
    "        outputI[i-1][j-1] = 0\n",
    "        for k in range(3):\n",
    "            for l in range(3):\n",
    "                outputI[i-1][j-1] += I[i-1+k][j-1+l] * kernel[k][l]\n",
    "print(outputI)"
   ]
  },
  {
   "cell_type": "code",
   "execution_count": 7,
   "metadata": {},
   "outputs": [
    {
     "output_type": "stream",
     "name": "stdout",
     "text": "1.5\n"
    }
   ],
   "source": [
    "# 计算均方差\n",
    "MSE = 0\n",
    "for i in range(4):\n",
    "    for j in range(4):\n",
    "        MSE += (targetI[i][j] - outputI[i][j])**2\n",
    "MSE = float(MSE)/16.0\n",
    "print(MSE)"
   ]
  },
  {
   "cell_type": "code",
   "execution_count": 8,
   "metadata": {},
   "outputs": [
    {
     "output_type": "stream",
     "name": "stdout",
     "text": "[[-1.5, 0.0, 1.5], [-1.0, 0.0, 1.0], [-0.625, 0.0, 0.625]]\n"
    }
   ],
   "source": [
    "for i in range(3):\n",
    "    for j in range(3):\n",
    "        grad[i][j] = 0\n",
    "        for k in range(4):\n",
    "            for l in range(4):\n",
    "                grad[i][j] += (targetI[k][l] - outputI[k][l])*(-1)*(I[k + i][l + j])/8.0\n",
    "print(grad)"
   ]
  },
  {
   "cell_type": "code",
   "execution_count": 9,
   "metadata": {},
   "outputs": [
    {
     "output_type": "stream",
     "name": "stdout",
     "text": "[[0.015, 0.0, -0.015], [1.01, 0.0, -1.01], [1.00625, 0.0, -1.00625]]\n"
    }
   ],
   "source": [
    "eta = 0.01\n",
    "for i in range(3):\n",
    "    for j in range(3):\n",
    "        kernel[i][j] -= eta * grad[i][j]\n",
    "print(kernel)"
   ]
  },
  {
   "cell_type": "code",
   "execution_count": 10,
   "metadata": {},
   "outputs": [
    {
     "output_type": "stream",
     "name": "stdout",
     "text": "[[-2.0162500000000003, -2.0162500000000003, 2.0162500000000003, 2.0162500000000003], [-3.0375, -3.0375, 3.0375, 3.0375], [-3.0412500000000002, -2.035, 2.035, 3.0412500000000002], [-1.04, -0.030000000000000027, 0.030000000000000027, 1.04]]\n"
    }
   ],
   "source": [
    "for i in range(1, 5):\n",
    "    for j in range(1, 5):\n",
    "        outputI[i-1][j-1] = 0\n",
    "        for k in range(3):\n",
    "            for l in range(3):\n",
    "                outputI[i-1][j-1] += I[i-1+k][j-1+l] * kernel[k][l]\n",
    "print(outputI)"
   ]
  },
  {
   "cell_type": "code",
   "execution_count": 11,
   "metadata": {},
   "outputs": [
    {
     "output_type": "stream",
     "name": "stdout",
     "text": "1.4282833984374999\n"
    }
   ],
   "source": [
    "MSE = 0\n",
    "for i in range(4):\n",
    "    for j in range(4):\n",
    "        MSE += (targetI[i][j] - outputI[i][j])**2\n",
    "MSE = float(MSE)/16.0\n",
    "print(MSE)"
   ]
  }
 ]
}