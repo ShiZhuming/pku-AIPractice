{
 "nbformat": 4,
 "nbformat_minor": 2,
 "metadata": {
  "language_info": {
   "name": "python",
   "codemirror_mode": {
    "name": "ipython",
    "version": 3
   },
   "version": "3.7.7-final"
  },
  "orig_nbformat": 2,
  "file_extension": ".py",
  "mimetype": "text/x-python",
  "name": "python",
  "npconvert_exporter": "python",
  "pygments_lexer": "ipython3",
  "version": 3,
  "kernelspec": {
   "name": "python37764bitaipracticeex3conda3c3a4c9761db47deab8b731f40b60667",
   "display_name": "Python 3.7.7 64-bit ('AIPracticeEx3': conda)"
  }
 },
 "cells": [
  {
   "cell_type": "code",
   "execution_count": 1,
   "metadata": {},
   "outputs": [],
   "source": [
    "import numpy as np\n",
    "import matplotlib.pyplot as plt\n",
    "import struct\n",
    "import torch\n",
    "import torch.nn as nn\n",
    "import torch.nn.functional as F"
   ]
  },
  {
   "cell_type": "code",
   "execution_count": 2,
   "metadata": {},
   "outputs": [],
   "source": [
    "# mnist ref:http://yann.lecun.com/exdb/mnist/\n",
    "# struct ref:https://www.cnblogs.com/gala/archive/2011/09/22/2184801.html\n",
    "# numpy ref:numpy.org.cn/article/basics/numpy_matrices_vectors.html\n",
    "def LoadImages(file):\n",
    "    try:\n",
    "        F = open(file, 'rb')\n",
    "    except IOError:\n",
    "        print(\"open error\")\n",
    "        F.close()\n",
    "\n",
    "    f = F.read()\n",
    "\n",
    "    offset=0\n",
    "    fmt = '>iiii'\n",
    "    magic, images, rows, columns = struct.unpack_from(fmt, f, offset)\n",
    "\n",
    "    offset += struct.calcsize(fmt)\n",
    "    fmt = '>' + str(rows * columns) + 'B'\n",
    "\n",
    "    # images = 10 # for test\n",
    "\n",
    "    # for CNN\n",
    "    ImageSet = np.empty((images, 1, rows, columns))\n",
    "    for i in range(images):\n",
    "        ImageSet[i] = np.array(struct.unpack_from(fmt, f, offset)).reshape((1, rows, columns))\n",
    "        offset += struct.calcsize(fmt)\n",
    "\n",
    "    # for simple softmax\n",
    "    # ImageSet = np.empty((images, rows * columns))\n",
    "    # for i in range(images):\n",
    "    #     ImageSet[i] = np.array(struct.unpack_from(fmt, f, offset)).reshape((rows*columns))\n",
    "    #     offset += struct.calcsize(fmt)\n",
    "\n",
    "    F.close()\n",
    "\n",
    "    return ImageSet"
   ]
  },
  {
   "cell_type": "code",
   "execution_count": 3,
   "metadata": {},
   "outputs": [],
   "source": [
    "def LoadLabels(file):\n",
    "    try:\n",
    "        F = open(file, 'rb')\n",
    "    except IOError:\n",
    "        print(\"open error\")\n",
    "        F.close()\n",
    "\n",
    "    f = F.read()\n",
    "\n",
    "    offset=0\n",
    "    fmt = '>ii'\n",
    "\n",
    "    magic, items = struct.unpack_from(fmt, f, offset)\n",
    "\n",
    "    offset += struct.calcsize(fmt)\n",
    "    fmt = '>B'\n",
    "\n",
    "    # items = 10 # for test\n",
    "\n",
    "    LabelSet = np.zeros((items, 10))\n",
    "    for i in range(items):\n",
    "        LabelSet[i][struct.unpack_from(fmt, f, offset)[0]] = 1\n",
    "        offset += struct.calcsize(fmt)\n",
    "\n",
    "    F.close()\n",
    "\n",
    "    return LabelSet\n",
    ""
   ]
  },
  {
   "cell_type": "code",
   "execution_count": 4,
   "metadata": {
    "tags": [
     "outputPrepend"
    ]
   },
   "outputs": [],
   "source": [
    "# test\n",
    "# im = LoadImages('train-images.idx3-ubyte')\n",
    "# la = LoadLabels('train-labels.idx1-ubyte')\n",
    "# plt.ion()\n",
    "# for i in range(10):\n",
    "#     plt.imshow(im[i], cmap='Greys')\n",
    "#     print(la[i])\n",
    "#     plt.pause(1)"
   ]
  },
  {
   "cell_type": "code",
   "execution_count": 5,
   "metadata": {},
   "outputs": [],
   "source": [
    "# load training set\n",
    "TrainImages_np = LoadImages('train-images.idx3-ubyte')\n",
    "TrainLabels_np = LoadLabels('train-labels.idx1-ubyte')\n",
    "\n",
    "TrainImages = torch.from_numpy(TrainImages_np)\n",
    "TrainLabels = torch.from_numpy(TrainLabels_np)"
   ]
  },
  {
   "cell_type": "code",
   "execution_count": 6,
   "metadata": {},
   "outputs": [],
   "source": [
    "# print(TrainImages)"
   ]
  },
  {
   "cell_type": "code",
   "execution_count": 7,
   "metadata": {},
   "outputs": [],
   "source": [
    "# x = torch.randn(2,1,7,3)\n",
    "# print(x)"
   ]
  },
  {
   "cell_type": "code",
   "execution_count": 8,
   "metadata": {},
   "outputs": [],
   "source": [
    "# test\n",
    "# print(TrainImages)\n",
    "# print(TrainLabels)"
   ]
  },
  {
   "cell_type": "code",
   "execution_count": 9,
   "metadata": {},
   "outputs": [],
   "source": [
    "# softmax with torch\n",
    "# class SoftmaxNet(nn.Module):\n",
    "#     def __init__(self, n_feature, n_hidden, n_output):\n",
    "#         super(SoftmaxNet, self).__init__()\n",
    "#         self.hidden = nn.Linear(n_feature, n_hidden)\n",
    "#         self.predict = nn.Linear(n_hidden, n_output)\n",
    "\n",
    "#     def forward(self, x):\n",
    "        \n",
    "#         x = F.relu(self.hidden(x))\n",
    "#         x = self.predict(x)\n",
    "#         return F.softmax(x, dim=1)"
   ]
  },
  {
   "cell_type": "code",
   "execution_count": 10,
   "metadata": {},
   "outputs": [],
   "source": [
    "# softmax with torch\n",
    "class CNN(nn.Module):\n",
    "    def __init__(self):\n",
    "        super(CNN, self).__init__()\n",
    "\n",
    "        self.conv1 = nn.Conv2d(1, 6, 5, padding=2)\n",
    "        self.pool2 = nn.MaxPool2d(2, stride=2)\n",
    "        self.conv3 = nn.Conv2d(6, 16, 5)\n",
    "        self.pool4 = nn.MaxPool2d(2, stride=2)\n",
    "        self.full5 = nn.Linear(16*5*5, 120)\n",
    "        self.full6 = nn.Linear(120, 84)\n",
    "        self.out = nn.Linear(84,10)\n",
    "\n",
    "    def forward(self, x):\n",
    "        x = self.conv1(x)\n",
    "        x = self.pool2(x)\n",
    "        x = self.conv3(x)\n",
    "        x = self.pool4(x)\n",
    "        x = x.view(x.size(0), -1)\n",
    "        x = self.full5(x)\n",
    "        x = self.full6(x)\n",
    "        x = self.out(x)\n",
    "        x = F.softmax(x, dim=1)\n",
    "        return x"
   ]
  },
  {
   "cell_type": "code",
   "execution_count": 11,
   "metadata": {},
   "outputs": [
    {
     "output_type": "stream",
     "name": "stdout",
     "text": "CNN(\n  (conv1): Conv2d(1, 6, kernel_size=(5, 5), stride=(1, 1), padding=(2, 2))\n  (pool2): MaxPool2d(kernel_size=2, stride=2, padding=0, dilation=1, ceil_mode=False)\n  (conv3): Conv2d(6, 16, kernel_size=(5, 5), stride=(1, 1))\n  (pool4): MaxPool2d(kernel_size=2, stride=2, padding=0, dilation=1, ceil_mode=False)\n  (full5): Linear(in_features=400, out_features=120, bias=True)\n  (full6): Linear(in_features=120, out_features=84, bias=True)\n  (out): Linear(in_features=84, out_features=10, bias=True)\n)\n"
    }
   ],
   "source": [
    "net = CNN()\n",
    "print(net)\n",
    ""
   ]
  },
  {
   "cell_type": "markdown",
   "metadata": {},
   "source": [
    "$$out(N_i, C_{out_j})=bias(C_{out_j})+\\sum^{C_{in}-1}{k=0}weight(C{out_j},k)\\bigotimes input(N_i,k)$$"
   ]
  },
  {
   "cell_type": "code",
   "execution_count": 12,
   "metadata": {},
   "outputs": [],
   "source": [
    "losslist = []\n",
    "timelist = []"
   ]
  },
  {
   "cell_type": "code",
   "execution_count": 13,
   "metadata": {},
   "outputs": [
    {
     "output_type": "stream",
     "name": "stdout",
     "text": "0.15753643\nfinished  0.0 %\n\n0.14865053\n0.14468844\n0.14140429\n0.13964352\n0.1386856\n0.13790216\n0.13716745\n0.13645458\n0.13575071\n0.13504423\n0.13432106\n0.13356297\n0.13274683\n0.13184951\n0.13086146\n0.12980393\n0.1287305\n0.1277033\n0.12674801\n0.1258504\n0.12498473\n0.12413676\n0.1233065\n0.12249879\n0.12171888\n0.12097119\n0.12025866\n0.11958256\n0.11894248\n0.11833683\n0.117763214\n0.11721849\n0.11669966\n0.11620359\n0.11572763\n0.11526912\n0.114825614\n0.11439483\n0.11397469\n0.11356324\n0.11315848\n0.112758696\n0.11236228\n0.11196779\n0.11157414\n0.11118051\n0.11078638\n0.11039151\n0.10999603\n0.109599665\n0.1092019\n0.108801715\n0.108397745\n0.10798862\n0.10757327\n0.10715093\n0.10672107\n0.106283456\n0.10583797\n0.10538474\n0.10492389\n0.10445561\n0.103980064\n0.10349762\n0.10300864\n0.1025135\n0.10201276\n0.101506904\n0.10099644\n0.10048184\n0.09996332\n0.09944083\n0.09891412\n0.09838279\n0.09784567\n0.09730131\n0.09674794\n0.09618308\n0.09560378\n0.09500646\n0.09438731\n0.093742475\n0.09306866\n0.092364244\n0.09163028\n0.09087082\n0.090092696\n0.089304425\n0.08851455\n0.08772995\n0.08695561\n0.086194806\n0.08544986\n0.084722154\n0.084012814\n0.08332276\n0.08265282\n0.08200366\n0.08137605\n0.08077043\nfinished  10.0 %\n\n0.08018711\n0.07962599\n0.07908698\n0.07856973\n0.07807354\n0.07759771\n0.07714117\n0.0767031\n0.076282345\n0.07587791\n0.07548888\n0.07511437\n0.074753545\n0.0744056\n0.07406983\n0.07374557\n0.073432215\n0.07312919\n0.0728359\n0.07255181\n0.07227654\n0.07200963\n0.07175052\n0.071498826\n0.07125408\n0.07101592\n0.070783935\n0.07055778\n0.070337236\n0.07012197\n0.069911666\n0.069706045\n0.06950487\n0.06930785\n0.06911482\n0.06892559\n0.06873994\n0.068557724\n0.06837879\n0.06820298\n0.068030186\n0.06786023\n0.06769305\n0.06752853\n0.067366585\n0.06720719\n0.067050256\n0.066895686\n0.06674343\n0.06659346\n0.06644578\n0.0663003\n0.06615703\n0.066015966\n0.06587712\n0.06574046\n0.06560598\n0.06547371\n0.06534357\n0.0652156\n0.06508987\n0.0649663\n0.0648449\n0.06472568\n0.0646086\n0.06449366\n0.06438083\n0.0642701\n0.06416144\n0.06405481\n0.06395018\n0.063847534\n0.063746825\n0.06364802\n0.06355108\n0.063455984\n0.06336265\n0.06327105\n0.06318118\n0.063092954\n0.06300631\n0.06292122\n0.06283762\n0.06275549\n0.06267476\n0.06259538\n0.06251732\n0.062440522\n0.06236499\n0.062290665\n0.062217508\n0.062145494\n0.06207457\n0.062004693\n0.061935846\n0.06186799\n0.061801095\n0.061735116\n0.061670057\n0.06160588\nfinished  20.0 %\n\n0.061542567\n0.06148008\n0.061418384\n0.06135745\n0.06129728\n0.061237846\n0.06117911\n0.061121073\n0.061063703\n0.061006967\n0.06095087\n0.060895402\n0.06084052\n0.060786225\n0.0607325\n0.060679324\n0.060626704\n0.060574602\n0.060523022\n0.060471933\n0.06042134\n0.06037124\n0.060321607\n0.060272455\n0.060223762\n0.060175493\n0.060127657\n0.060080234\n0.06003322\n0.059986614\n0.059940398\n0.05989457\n0.05984911\n0.05980402\n0.059759285\n0.05971493\n0.05967091\n0.05962724\n0.059583895\n0.05954088\n0.05949819\n0.059455827\n0.05941375\n0.059371974\n0.059330508\n0.05928932\n0.059248436\n0.059207827\n0.0591675\n0.05912742\n0.05908763\n0.05904808\n0.059008803\n0.058969766\n0.058930982\n0.058892436\n0.058854103\n0.058816\n0.058778144\n0.058740497\n0.058703072\n0.058665846\n0.058628835\n0.058592025\n0.05855541\n0.05851899\n0.058482755\n0.058446687\n0.0584108\n0.05837507\n0.058339518\n0.058304142\n0.058268905\n0.058233835\n0.058198925\n0.058164142\n0.058129493\n0.058094993\n0.058060605\n0.05802633\n0.057992175\n0.05795811\n0.05792414\n0.057890274\n0.057856485\n0.057822786\n0.057789154\n0.057755567\n0.057722043\n0.05768856\n0.057655104\n0.05762166\n0.057588216\n0.05755475\n0.05752127\n0.057487715\n0.057454083\n0.057420377\n0.05738655\n0.05735259\nfinished  30.0 %\n\n0.057318456\n0.05728414\n0.0572496\n0.057214797\n0.057179693\n0.05714426\n0.057108432\n0.057072163\n0.05703538\n0.056998014\n0.056959994\n0.056921218\n0.056881603\n0.056841027\n0.056799363\n0.056756467\n0.056712173\n0.056666322\n0.05661869\n0.056569077\n0.0565172\n0.05646284\n0.056405663\n0.056345377\n0.056281622\n0.056214076\n0.056142382\n0.05606622\n0.055985324\n0.055899512\n0.055808667\n0.055712838\n0.0556122\n0.05550703\n0.05539778\n0.05528494\n0.05516906\n0.055050705\n0.054930344\n0.054808483\n0.054685548\n0.0545619\n0.054437857\n0.054313704\n0.054189693\n0.054065987\n0.053942755\n0.053820122\n0.053698204\n0.0535771\n0.053456895\n0.05333763\n0.053219393\n0.053102233\n0.05298617\n0.05287127\n0.052757554\n0.052645035\n0.052533742\n0.052423727\n0.052314986\n0.052207544\n0.052101422\n0.051996607\n0.051893126\n0.051790923\n0.051690012\n0.051590364\n0.051491965\n0.051394798\n0.051298834\n0.05120408\n0.051110517\n0.05101811\n0.050926838\n0.05083672\n0.050747674\n0.050659727\n0.050572846\n0.050486986\n0.05040213\n0.05031828\n0.050235406\n0.050153498\n0.0500725\n0.049992435\n0.04991327\n0.049834985\n0.04975757\n0.04968103\n0.049605325\n0.049530454\n0.049456425\n0.049383216\n0.049310826\n0.049239233\n0.04916843\n0.04909841\n0.04902914\n0.04896065\nfinished  40.0 %\n\n0.04889292\n0.048825905\n0.048759647\n0.04869413\n0.048629336\n0.048565265\n0.048501894\n0.048439227\n0.04837725\n0.04831599\n0.048255425\n0.048195522\n0.0481363\n0.048077747\n0.04801986\n0.047962625\n0.047906034\n0.04785009\n0.047794778\n0.04774009\n0.04768601\n0.047632538\n0.04757969\n0.047527436\n0.047475766\n0.04742469\n0.0473742\n0.047324263\n0.047274888\n0.047226068\n0.04717777\n0.04713001\n0.04708276\n0.04703604\n0.046989836\n0.04694414\n0.046898954\n0.046854272\n0.046810087\n0.046766378\n0.046723146\n0.046680395\n0.046638105\n0.046596263\n0.04655487\n0.046513908\n0.046473358\n0.04643323\n0.04639352\n0.04635422\n0.046315327\n0.046276838\n0.046238754\n0.046201047\n0.04616371\n0.046126753\n0.046090167\n0.04605394\n0.046018075\n0.045982547\n0.04594737\n0.045912534\n0.045878027\n0.04584384\n0.045809988\n0.045776434\n0.045743197\n0.045710254\n0.045677587\n0.045645222\n0.04561314\n0.04558135\n0.045549825\n0.045518577\n0.04548759\n0.04545686\n0.045426384\n0.045396157\n0.04536617\n0.045336433\n0.04530693\n0.04527765\n0.045248616\n0.0452198\n0.045191206\n0.04516283\n0.045134675\n0.045106724\n0.04507898\n0.04505144\n0.045024093\n0.04499696\n0.044970017\n0.04494326\n0.044916704\n0.044890333\n0.044864148\n0.04483813\n0.044812296\n0.044786632\nfinished  50.0 %\n\n0.044761147\n0.044735838\n0.044710692\n0.044685718\n0.0446609\n0.04463625\n0.044611752\n0.04458741\n0.04456321\n0.044539165\n0.044515267\n0.04449152\n0.044467915\n0.044444468\n0.044421148\n0.044397976\n0.044374947\n0.044352055\n0.0443293\n0.044306673\n0.044284184\n0.044261824\n0.044239588\n0.044217464\n0.044195477\n0.044173602\n0.04415185\n0.044130214\n0.044108696\n0.04408729\n0.044066004\n0.044044834\n0.04402378\n0.044002827\n0.043981995\n0.043961268\n0.043940656\n0.043920144\n0.04389974\n0.04387943\n0.04385924\n0.04383914\n0.04381914\n0.043799236\n0.043779425\n0.043759726\n0.043740105\n0.04372058\n0.043701153\n0.04368182\n0.043662578\n0.04364343\n0.043624382\n0.043605406\n0.043586526\n0.04356773\n0.043549012\n0.043530393\n0.043511856\n0.043493398\n0.04347502\n0.043456733\n0.043438513\n0.04342038\n0.04340233\n0.043384355\n0.04336647\n0.04334865\n0.04333091\n0.04331325\n0.04329566\n0.04327814\n0.0432607\n0.043243337\n0.04322604\n0.04320882\n0.04319167\n0.04317459\n0.04315757\n0.043140624\n0.04312375\n0.043106932\n0.043090194\n0.043073524\n0.0430569\n0.04304035\n0.043023862\n0.043007433\n0.042991076\n0.042974774\n0.042958543\n0.04294237\n0.04292625\n0.0429102\n0.04289421\n0.042878266\n0.04286239\n0.042846575\n0.04283081\n0.042815104\nfinished  60.0 %\n\n0.042799454\n0.04278385\n0.042768314\n0.042752825\n0.0427374\n0.04272202\n0.042706694\n0.042691424\n0.042676225\n0.04266107\n0.042645972\n0.042630922\n0.042615928\n0.042600982\n0.04258609\n0.042571243\n0.04255645\n0.0425417\n0.042527013\n0.04251237\n0.042497784\n0.04248324\n0.04246875\n0.04245431\n0.04243992\n0.042425573\n0.042411275\n0.04239703\n0.04238283\n0.042368673\n0.042354558\n0.042340487\n0.04232646\n0.04231248\n0.042298548\n0.042284656\n0.04227082\n0.042257015\n0.042243253\n0.042229544\n0.04221588\n0.04220226\n0.04218867\n0.04217513\n0.04216163\n0.042148165\n0.04213474\n0.042121362\n0.04210803\n0.042094726\n0.042081464\n0.042068236\n0.04205505\n0.0420419\n0.042028803\n0.042015728\n0.0420027\n0.041989706\n0.041976765\n0.04196385\n0.041950975\n0.04193813\n0.04192533\n0.04191256\n0.041899823\n0.041887116\n0.04187445\n0.04186181\n0.04184921\n0.04183665\n0.04182412\n0.041811634\n0.041799184\n0.04178677\n0.041774392\n0.041762047\n0.041749742\n0.04173747\n0.041725233\n0.041713037\n0.041700862\n0.041688725\n0.041676622\n0.04166454\n0.0416525\n0.041640483\n0.041628502\n0.041616548\n0.041604627\n0.04159273\n0.04158087\n0.04156904\n0.04155724\n0.041545477\n0.04153374\n0.041522034\n0.041510362\n0.04149872\n0.04148711\n0.04147554\nfinished  70.0 %\n\n0.041463986\n0.041452467\n0.041440975\n0.041429516\n0.041418087\n0.04140669\n0.041395318\n0.04138397\n0.04137266\n0.041361365\n0.041350104\n0.041338872\n0.04132766\n0.04131648\n0.041305326\n0.041294206\n0.041283105\n0.041272033\n0.041260988\n0.041249964\n0.04123897\n0.041228015\n0.041217066\n0.04120616\n0.041195277\n0.04118441\n0.041173574\n0.041162763\n0.041151974\n0.041141216\n0.04113048\n0.04111977\n0.041109085\n0.04109842\n0.04108778\n0.041077174\n0.041066587\n0.041056022\n0.041045483\n0.041034974\n0.041024473\n0.041014004\n0.041003555\n0.040993135\n0.040982727\n0.040972352\n0.040961992\n0.04095166\n0.040941354\n0.040931076\n0.040920813\n0.040910583\n0.040900372\n0.040890183\n0.040880013\n0.04086986\n0.040859748\n0.040849637\n0.04083956\n0.040829506\n0.040819474\n0.040809453\n0.04079946\n0.040789492\n0.040779542\n0.040769618\n0.04075971\n0.040749826\n0.040739965\n0.040730126\n0.040720303\n0.040710505\n0.04070073\n0.04069097\n0.040681235\n0.040671512\n0.04066182\n0.040652137\n0.040642474\n0.04063284\n0.040623218\n0.040613618\n0.04060404\n0.040594473\n0.040584937\n0.04057541\n0.040565904\n0.04055642\n0.040546954\n0.0405375\n0.040528078\n0.040518664\n0.040509276\n0.040499903\n0.040490545\n0.04048122\n0.040471904\n0.04046261\n0.040453333\n0.040444076\nfinished  80.0 %\n\n0.040434837\n0.040425614\n0.040416416\n0.040407225\n0.040398065\n0.040388912\n0.040379774\n0.04037066\n0.040361553\n0.04035248\n0.0403434\n0.040334363\n0.04032534\n0.04031633\n0.040307336\n0.04029836\n0.040289406\n0.040280472\n0.04027154\n0.04026263\n0.040253736\n0.04024485\n0.04023599\n0.040227138\n0.040218312\n0.040209487\n0.04020069\n0.040191904\n0.040183134\n0.040174387\n0.04016565\n0.040156934\n0.040148225\n0.040139537\n0.040130865\n0.040122204\n0.04011357\n0.04010494\n0.040096328\n0.04008773\n0.040079158\n0.040070586\n0.040062044\n0.040053505\n0.040044993\n0.040036492\n0.040028002\n0.040019527\n0.04001107\n0.04000263\n0.0399942\n0.039985787\n0.03997739\n0.039969005\n0.039960645\n0.039952293\n0.039943956\n0.03993563\n0.039927326\n0.039919037\n0.03991076\n0.0399025\n0.039894253\n0.039886016\n0.039877802\n0.039869595\n0.039861407\n0.039853234\n0.039845075\n0.039836925\n0.039828792\n0.039820667\n0.03981256\n0.039804466\n0.039796386\n0.03978832\n0.039780263\n0.039772227\n0.0397642\n0.03975619\n0.03974819\n0.039740197\n0.03973223\n0.03972427\n0.03971633\n0.039708395\n0.03970048\n0.039692573\n0.03968468\n0.039676797\n0.03966893\n0.039661076\n0.039653234\n0.039645404\n0.03963759\n0.03962978\n0.039621983\n0.039614204\n0.039606433\n0.039598674\nfinished  90.0 %\n\n0.039590932\n0.039583202\n0.03957548\n0.039567772\n0.03956008\n0.039552394\n0.039544724\n0.03953706\n0.03952941\n0.039521776\n0.03951415\n0.039506543\n0.039498944\n0.03949136\n0.039483782\n0.039476216\n0.039468657\n0.03946112\n0.039453592\n0.039446075\n0.039438564\n0.039431073\n0.039423585\n0.039416116\n0.039408658\n0.039401203\n0.03939377\n0.039386347\n0.039378934\n0.039371524\n0.039364133\n0.03935675\n0.039349377\n0.03934202\n0.039334677\n0.039327342\n0.039320014\n0.0393127\n0.039305396\n0.039298102\n0.03929082\n0.03928355\n0.039276294\n0.039269056\n0.039261818\n0.03925459\n0.03924738\n0.039240174\n0.039232977\n0.0392258\n0.039218627\n0.039211463\n0.039204307\n0.03919717\n0.03919004\n0.039182916\n0.03917581\n0.039168704\n0.03916162\n0.03915453\n0.039147466\n0.039140403\n0.039133355\n0.039126314\n0.039119292\n0.03911227\n0.03910526\n0.03909826\n0.03909127\n0.039084285\n0.03907732\n0.039070353\n0.039063405\n0.039056465\n0.039049532\n0.03904261\n0.039035697\n0.039028797\n0.03902191\n0.03901503\n0.03900816\n0.039001293\n0.03899444\n0.0389876\n0.038980763\n0.038973942\n0.038967136\n0.03896033\n0.038953535\n0.038946748\n0.03893998\n0.03893321\n0.03892645\n0.038919702\n0.038912963\n0.038906235\n0.03889951\n0.038892798\n0.038886096\n"
    }
   ],
   "source": [
    "optimizer = torch.optim.SGD(net.parameters(), lr=0.01)\n",
    "loss_func = nn.MSELoss()\n",
    "\n",
    "TrainImages = torch.tensor(TrainImages, dtype=torch.float32)\n",
    "TrainLabels = torch.tensor(TrainLabels, dtype=torch.float32)\n",
    "\n",
    "for t in range(1000):\n",
    "    prediction = net(TrainImages)\n",
    "    loss = loss_func(prediction, TrainLabels)\n",
    "\n",
    "    optimizer.zero_grad()\n",
    "    loss.backward()\n",
    "    optimizer.step()\n",
    "\n",
    "    # for test\n",
    "    print(loss.data.numpy())\n",
    "\n",
    "    losslist.append(loss.data.numpy())\n",
    "    timelist.append(t)\n",
    "\n",
    "    if t%100 == 0:\n",
    "        print(\"finished \", t/10, \"%\\n\")"
   ]
  },
  {
   "cell_type": "code",
   "execution_count": 14,
   "metadata": {},
   "outputs": [
    {
     "output_type": "execute_result",
     "data": {
      "text/plain": "[<matplotlib.lines.Line2D at 0x7fe97c196b10>]"
     },
     "metadata": {},
     "execution_count": 14
    },
    {
     "output_type": "display_data",
     "data": {
      "text/plain": "<Figure size 432x288 with 1 Axes>",
      "image/svg+xml": "<?xml version=\"1.0\" encoding=\"utf-8\" standalone=\"no\"?>\n<!DOCTYPE svg PUBLIC \"-//W3C//DTD SVG 1.1//EN\"\n  \"http://www.w3.org/Graphics/SVG/1.1/DTD/svg11.dtd\">\n<!-- Created with matplotlib (https://matplotlib.org/) -->\n<svg height=\"248.518125pt\" version=\"1.1\" viewBox=\"0 0 378.465625 248.518125\" width=\"378.465625pt\" xmlns=\"http://www.w3.org/2000/svg\" xmlns:xlink=\"http://www.w3.org/1999/xlink\">\n <defs>\n  <style type=\"text/css\">\n*{stroke-linecap:butt;stroke-linejoin:round;}\n  </style>\n </defs>\n <g id=\"figure_1\">\n  <g id=\"patch_1\">\n   <path d=\"M 0 248.518125 \nL 378.465625 248.518125 \nL 378.465625 0 \nL 0 0 \nz\n\" style=\"fill:none;\"/>\n  </g>\n  <g id=\"axes_1\">\n   <g id=\"patch_2\">\n    <path d=\"M 36.465625 224.64 \nL 371.265625 224.64 \nL 371.265625 7.2 \nL 36.465625 7.2 \nz\n\" style=\"fill:#ffffff;\"/>\n   </g>\n   <g id=\"matplotlib.axis_1\">\n    <g id=\"xtick_1\">\n     <g id=\"line2d_1\">\n      <defs>\n       <path d=\"M 0 0 \nL 0 3.5 \n\" id=\"m6ca2c21787\" style=\"stroke:#000000;stroke-width:0.8;\"/>\n      </defs>\n      <g>\n       <use style=\"stroke:#000000;stroke-width:0.8;\" x=\"51.683807\" xlink:href=\"#m6ca2c21787\" y=\"224.64\"/>\n      </g>\n     </g>\n     <g id=\"text_1\">\n      <!-- 0 -->\n      <defs>\n       <path d=\"M 31.78125 66.40625 \nQ 24.171875 66.40625 20.328125 58.90625 \nQ 16.5 51.421875 16.5 36.375 \nQ 16.5 21.390625 20.328125 13.890625 \nQ 24.171875 6.390625 31.78125 6.390625 \nQ 39.453125 6.390625 43.28125 13.890625 \nQ 47.125 21.390625 47.125 36.375 \nQ 47.125 51.421875 43.28125 58.90625 \nQ 39.453125 66.40625 31.78125 66.40625 \nz\nM 31.78125 74.21875 \nQ 44.046875 74.21875 50.515625 64.515625 \nQ 56.984375 54.828125 56.984375 36.375 \nQ 56.984375 17.96875 50.515625 8.265625 \nQ 44.046875 -1.421875 31.78125 -1.421875 \nQ 19.53125 -1.421875 13.0625 8.265625 \nQ 6.59375 17.96875 6.59375 36.375 \nQ 6.59375 54.828125 13.0625 64.515625 \nQ 19.53125 74.21875 31.78125 74.21875 \nz\n\" id=\"DejaVuSans-48\"/>\n      </defs>\n      <g transform=\"translate(48.502557 239.238438)scale(0.1 -0.1)\">\n       <use xlink:href=\"#DejaVuSans-48\"/>\n      </g>\n     </g>\n    </g>\n    <g id=\"xtick_2\">\n     <g id=\"line2d_2\">\n      <g>\n       <use style=\"stroke:#000000;stroke-width:0.8;\" x=\"112.617468\" xlink:href=\"#m6ca2c21787\" y=\"224.64\"/>\n      </g>\n     </g>\n     <g id=\"text_2\">\n      <!-- 200 -->\n      <defs>\n       <path d=\"M 19.1875 8.296875 \nL 53.609375 8.296875 \nL 53.609375 0 \nL 7.328125 0 \nL 7.328125 8.296875 \nQ 12.9375 14.109375 22.625 23.890625 \nQ 32.328125 33.6875 34.8125 36.53125 \nQ 39.546875 41.84375 41.421875 45.53125 \nQ 43.3125 49.21875 43.3125 52.78125 \nQ 43.3125 58.59375 39.234375 62.25 \nQ 35.15625 65.921875 28.609375 65.921875 \nQ 23.96875 65.921875 18.8125 64.3125 \nQ 13.671875 62.703125 7.8125 59.421875 \nL 7.8125 69.390625 \nQ 13.765625 71.78125 18.9375 73 \nQ 24.125 74.21875 28.421875 74.21875 \nQ 39.75 74.21875 46.484375 68.546875 \nQ 53.21875 62.890625 53.21875 53.421875 \nQ 53.21875 48.921875 51.53125 44.890625 \nQ 49.859375 40.875 45.40625 35.40625 \nQ 44.1875 33.984375 37.640625 27.21875 \nQ 31.109375 20.453125 19.1875 8.296875 \nz\n\" id=\"DejaVuSans-50\"/>\n      </defs>\n      <g transform=\"translate(103.073718 239.238438)scale(0.1 -0.1)\">\n       <use xlink:href=\"#DejaVuSans-50\"/>\n       <use x=\"63.623047\" xlink:href=\"#DejaVuSans-48\"/>\n       <use x=\"127.246094\" xlink:href=\"#DejaVuSans-48\"/>\n      </g>\n     </g>\n    </g>\n    <g id=\"xtick_3\">\n     <g id=\"line2d_3\">\n      <g>\n       <use style=\"stroke:#000000;stroke-width:0.8;\" x=\"173.551129\" xlink:href=\"#m6ca2c21787\" y=\"224.64\"/>\n      </g>\n     </g>\n     <g id=\"text_3\">\n      <!-- 400 -->\n      <defs>\n       <path d=\"M 37.796875 64.3125 \nL 12.890625 25.390625 \nL 37.796875 25.390625 \nz\nM 35.203125 72.90625 \nL 47.609375 72.90625 \nL 47.609375 25.390625 \nL 58.015625 25.390625 \nL 58.015625 17.1875 \nL 47.609375 17.1875 \nL 47.609375 0 \nL 37.796875 0 \nL 37.796875 17.1875 \nL 4.890625 17.1875 \nL 4.890625 26.703125 \nz\n\" id=\"DejaVuSans-52\"/>\n      </defs>\n      <g transform=\"translate(164.007379 239.238438)scale(0.1 -0.1)\">\n       <use xlink:href=\"#DejaVuSans-52\"/>\n       <use x=\"63.623047\" xlink:href=\"#DejaVuSans-48\"/>\n       <use x=\"127.246094\" xlink:href=\"#DejaVuSans-48\"/>\n      </g>\n     </g>\n    </g>\n    <g id=\"xtick_4\">\n     <g id=\"line2d_4\">\n      <g>\n       <use style=\"stroke:#000000;stroke-width:0.8;\" x=\"234.48479\" xlink:href=\"#m6ca2c21787\" y=\"224.64\"/>\n      </g>\n     </g>\n     <g id=\"text_4\">\n      <!-- 600 -->\n      <defs>\n       <path d=\"M 33.015625 40.375 \nQ 26.375 40.375 22.484375 35.828125 \nQ 18.609375 31.296875 18.609375 23.390625 \nQ 18.609375 15.53125 22.484375 10.953125 \nQ 26.375 6.390625 33.015625 6.390625 \nQ 39.65625 6.390625 43.53125 10.953125 \nQ 47.40625 15.53125 47.40625 23.390625 \nQ 47.40625 31.296875 43.53125 35.828125 \nQ 39.65625 40.375 33.015625 40.375 \nz\nM 52.59375 71.296875 \nL 52.59375 62.3125 \nQ 48.875 64.0625 45.09375 64.984375 \nQ 41.3125 65.921875 37.59375 65.921875 \nQ 27.828125 65.921875 22.671875 59.328125 \nQ 17.53125 52.734375 16.796875 39.40625 \nQ 19.671875 43.65625 24.015625 45.921875 \nQ 28.375 48.1875 33.59375 48.1875 \nQ 44.578125 48.1875 50.953125 41.515625 \nQ 57.328125 34.859375 57.328125 23.390625 \nQ 57.328125 12.15625 50.6875 5.359375 \nQ 44.046875 -1.421875 33.015625 -1.421875 \nQ 20.359375 -1.421875 13.671875 8.265625 \nQ 6.984375 17.96875 6.984375 36.375 \nQ 6.984375 53.65625 15.1875 63.9375 \nQ 23.390625 74.21875 37.203125 74.21875 \nQ 40.921875 74.21875 44.703125 73.484375 \nQ 48.484375 72.75 52.59375 71.296875 \nz\n\" id=\"DejaVuSans-54\"/>\n      </defs>\n      <g transform=\"translate(224.94104 239.238438)scale(0.1 -0.1)\">\n       <use xlink:href=\"#DejaVuSans-54\"/>\n       <use x=\"63.623047\" xlink:href=\"#DejaVuSans-48\"/>\n       <use x=\"127.246094\" xlink:href=\"#DejaVuSans-48\"/>\n      </g>\n     </g>\n    </g>\n    <g id=\"xtick_5\">\n     <g id=\"line2d_5\">\n      <g>\n       <use style=\"stroke:#000000;stroke-width:0.8;\" x=\"295.418451\" xlink:href=\"#m6ca2c21787\" y=\"224.64\"/>\n      </g>\n     </g>\n     <g id=\"text_5\">\n      <!-- 800 -->\n      <defs>\n       <path d=\"M 31.78125 34.625 \nQ 24.75 34.625 20.71875 30.859375 \nQ 16.703125 27.09375 16.703125 20.515625 \nQ 16.703125 13.921875 20.71875 10.15625 \nQ 24.75 6.390625 31.78125 6.390625 \nQ 38.8125 6.390625 42.859375 10.171875 \nQ 46.921875 13.96875 46.921875 20.515625 \nQ 46.921875 27.09375 42.890625 30.859375 \nQ 38.875 34.625 31.78125 34.625 \nz\nM 21.921875 38.8125 \nQ 15.578125 40.375 12.03125 44.71875 \nQ 8.5 49.078125 8.5 55.328125 \nQ 8.5 64.0625 14.71875 69.140625 \nQ 20.953125 74.21875 31.78125 74.21875 \nQ 42.671875 74.21875 48.875 69.140625 \nQ 55.078125 64.0625 55.078125 55.328125 \nQ 55.078125 49.078125 51.53125 44.71875 \nQ 48 40.375 41.703125 38.8125 \nQ 48.828125 37.15625 52.796875 32.3125 \nQ 56.78125 27.484375 56.78125 20.515625 \nQ 56.78125 9.90625 50.3125 4.234375 \nQ 43.84375 -1.421875 31.78125 -1.421875 \nQ 19.734375 -1.421875 13.25 4.234375 \nQ 6.78125 9.90625 6.78125 20.515625 \nQ 6.78125 27.484375 10.78125 32.3125 \nQ 14.796875 37.15625 21.921875 38.8125 \nz\nM 18.3125 54.390625 \nQ 18.3125 48.734375 21.84375 45.5625 \nQ 25.390625 42.390625 31.78125 42.390625 \nQ 38.140625 42.390625 41.71875 45.5625 \nQ 45.3125 48.734375 45.3125 54.390625 \nQ 45.3125 60.0625 41.71875 63.234375 \nQ 38.140625 66.40625 31.78125 66.40625 \nQ 25.390625 66.40625 21.84375 63.234375 \nQ 18.3125 60.0625 18.3125 54.390625 \nz\n\" id=\"DejaVuSans-56\"/>\n      </defs>\n      <g transform=\"translate(285.874701 239.238438)scale(0.1 -0.1)\">\n       <use xlink:href=\"#DejaVuSans-56\"/>\n       <use x=\"63.623047\" xlink:href=\"#DejaVuSans-48\"/>\n       <use x=\"127.246094\" xlink:href=\"#DejaVuSans-48\"/>\n      </g>\n     </g>\n    </g>\n    <g id=\"xtick_6\">\n     <g id=\"line2d_6\">\n      <g>\n       <use style=\"stroke:#000000;stroke-width:0.8;\" x=\"356.352111\" xlink:href=\"#m6ca2c21787\" y=\"224.64\"/>\n      </g>\n     </g>\n     <g id=\"text_6\">\n      <!-- 1000 -->\n      <defs>\n       <path d=\"M 12.40625 8.296875 \nL 28.515625 8.296875 \nL 28.515625 63.921875 \nL 10.984375 60.40625 \nL 10.984375 69.390625 \nL 28.421875 72.90625 \nL 38.28125 72.90625 \nL 38.28125 8.296875 \nL 54.390625 8.296875 \nL 54.390625 0 \nL 12.40625 0 \nz\n\" id=\"DejaVuSans-49\"/>\n      </defs>\n      <g transform=\"translate(343.627111 239.238438)scale(0.1 -0.1)\">\n       <use xlink:href=\"#DejaVuSans-49\"/>\n       <use x=\"63.623047\" xlink:href=\"#DejaVuSans-48\"/>\n       <use x=\"127.246094\" xlink:href=\"#DejaVuSans-48\"/>\n       <use x=\"190.869141\" xlink:href=\"#DejaVuSans-48\"/>\n      </g>\n     </g>\n    </g>\n   </g>\n   <g id=\"matplotlib.axis_2\">\n    <g id=\"ytick_1\">\n     <g id=\"line2d_7\">\n      <defs>\n       <path d=\"M 0 0 \nL -3.5 0 \n\" id=\"m0a418b9c89\" style=\"stroke:#000000;stroke-width:0.8;\"/>\n      </defs>\n      <g>\n       <use style=\"stroke:#000000;stroke-width:0.8;\" x=\"36.465625\" xlink:href=\"#m0a418b9c89\" y=\"212.900588\"/>\n      </g>\n     </g>\n     <g id=\"text_7\">\n      <!-- 0.04 -->\n      <defs>\n       <path d=\"M 10.6875 12.40625 \nL 21 12.40625 \nL 21 0 \nL 10.6875 0 \nz\n\" id=\"DejaVuSans-46\"/>\n      </defs>\n      <g transform=\"translate(7.2 216.699807)scale(0.1 -0.1)\">\n       <use xlink:href=\"#DejaVuSans-48\"/>\n       <use x=\"63.623047\" xlink:href=\"#DejaVuSans-46\"/>\n       <use x=\"95.410156\" xlink:href=\"#DejaVuSans-48\"/>\n       <use x=\"159.033203\" xlink:href=\"#DejaVuSans-52\"/>\n      </g>\n     </g>\n    </g>\n    <g id=\"ytick_2\">\n     <g id=\"line2d_8\">\n      <g>\n       <use style=\"stroke:#000000;stroke-width:0.8;\" x=\"36.465625\" xlink:href=\"#m0a418b9c89\" y=\"179.580375\"/>\n      </g>\n     </g>\n     <g id=\"text_8\">\n      <!-- 0.06 -->\n      <g transform=\"translate(7.2 183.379593)scale(0.1 -0.1)\">\n       <use xlink:href=\"#DejaVuSans-48\"/>\n       <use x=\"63.623047\" xlink:href=\"#DejaVuSans-46\"/>\n       <use x=\"95.410156\" xlink:href=\"#DejaVuSans-48\"/>\n       <use x=\"159.033203\" xlink:href=\"#DejaVuSans-54\"/>\n      </g>\n     </g>\n    </g>\n    <g id=\"ytick_3\">\n     <g id=\"line2d_9\">\n      <g>\n       <use style=\"stroke:#000000;stroke-width:0.8;\" x=\"36.465625\" xlink:href=\"#m0a418b9c89\" y=\"146.260161\"/>\n      </g>\n     </g>\n     <g id=\"text_9\">\n      <!-- 0.08 -->\n      <g transform=\"translate(7.2 150.05938)scale(0.1 -0.1)\">\n       <use xlink:href=\"#DejaVuSans-48\"/>\n       <use x=\"63.623047\" xlink:href=\"#DejaVuSans-46\"/>\n       <use x=\"95.410156\" xlink:href=\"#DejaVuSans-48\"/>\n       <use x=\"159.033203\" xlink:href=\"#DejaVuSans-56\"/>\n      </g>\n     </g>\n    </g>\n    <g id=\"ytick_4\">\n     <g id=\"line2d_10\">\n      <g>\n       <use style=\"stroke:#000000;stroke-width:0.8;\" x=\"36.465625\" xlink:href=\"#m0a418b9c89\" y=\"112.939947\"/>\n      </g>\n     </g>\n     <g id=\"text_10\">\n      <!-- 0.10 -->\n      <g transform=\"translate(7.2 116.739166)scale(0.1 -0.1)\">\n       <use xlink:href=\"#DejaVuSans-48\"/>\n       <use x=\"63.623047\" xlink:href=\"#DejaVuSans-46\"/>\n       <use x=\"95.410156\" xlink:href=\"#DejaVuSans-49\"/>\n       <use x=\"159.033203\" xlink:href=\"#DejaVuSans-48\"/>\n      </g>\n     </g>\n    </g>\n    <g id=\"ytick_5\">\n     <g id=\"line2d_11\">\n      <g>\n       <use style=\"stroke:#000000;stroke-width:0.8;\" x=\"36.465625\" xlink:href=\"#m0a418b9c89\" y=\"79.619733\"/>\n      </g>\n     </g>\n     <g id=\"text_11\">\n      <!-- 0.12 -->\n      <g transform=\"translate(7.2 83.418952)scale(0.1 -0.1)\">\n       <use xlink:href=\"#DejaVuSans-48\"/>\n       <use x=\"63.623047\" xlink:href=\"#DejaVuSans-46\"/>\n       <use x=\"95.410156\" xlink:href=\"#DejaVuSans-49\"/>\n       <use x=\"159.033203\" xlink:href=\"#DejaVuSans-50\"/>\n      </g>\n     </g>\n    </g>\n    <g id=\"ytick_6\">\n     <g id=\"line2d_12\">\n      <g>\n       <use style=\"stroke:#000000;stroke-width:0.8;\" x=\"36.465625\" xlink:href=\"#m0a418b9c89\" y=\"46.29952\"/>\n      </g>\n     </g>\n     <g id=\"text_12\">\n      <!-- 0.14 -->\n      <g transform=\"translate(7.2 50.098738)scale(0.1 -0.1)\">\n       <use xlink:href=\"#DejaVuSans-48\"/>\n       <use x=\"63.623047\" xlink:href=\"#DejaVuSans-46\"/>\n       <use x=\"95.410156\" xlink:href=\"#DejaVuSans-49\"/>\n       <use x=\"159.033203\" xlink:href=\"#DejaVuSans-52\"/>\n      </g>\n     </g>\n    </g>\n    <g id=\"ytick_7\">\n     <g id=\"line2d_13\">\n      <g>\n       <use style=\"stroke:#000000;stroke-width:0.8;\" x=\"36.465625\" xlink:href=\"#m0a418b9c89\" y=\"12.979306\"/>\n      </g>\n     </g>\n     <g id=\"text_13\">\n      <!-- 0.16 -->\n      <g transform=\"translate(7.2 16.778525)scale(0.1 -0.1)\">\n       <use xlink:href=\"#DejaVuSans-48\"/>\n       <use x=\"63.623047\" xlink:href=\"#DejaVuSans-46\"/>\n       <use x=\"95.410156\" xlink:href=\"#DejaVuSans-49\"/>\n       <use x=\"159.033203\" xlink:href=\"#DejaVuSans-54\"/>\n      </g>\n     </g>\n    </g>\n   </g>\n   <g id=\"line2d_14\">\n    <path clip-path=\"url(#p4f159d6202)\" d=\"M 51.683807 17.083636 \nL 51.988475 31.887649 \nL 52.597812 43.959964 \nL 52.90248 46.893419 \nL 53.511817 49.794551 \nL 55.949163 59.878319 \nL 58.691178 74.111073 \nL 59.909851 79.188805 \nL 61.128524 83.346243 \nL 62.347197 86.737542 \nL 63.870539 90.343445 \nL 70.268573 104.736695 \nL 72.70592 111.279864 \nL 75.447935 119.298982 \nL 76.971276 124.487635 \nL 78.494618 130.75889 \nL 80.627296 139.57477 \nL 82.150637 144.976611 \nL 83.673979 149.469666 \nL 85.19732 153.127603 \nL 86.720662 156.139891 \nL 88.244003 158.668926 \nL 90.072013 161.227739 \nL 91.900023 163.41 \nL 94.032701 165.621219 \nL 96.470048 167.834573 \nL 99.212062 170.016709 \nL 101.954077 171.902391 \nL 104.696092 173.50273 \nL 107.438107 174.852864 \nL 110.789458 176.240535 \nL 114.750146 177.615966 \nL 119.32017 178.961887 \nL 124.8042 180.345275 \nL 131.506903 181.80309 \nL 140.646952 183.542712 \nL 147.958991 184.984136 \nL 150.396338 185.669015 \nL 152.224347 186.411831 \nL 154.052357 187.435715 \nL 157.708377 189.876117 \nL 161.669065 192.383691 \nL 165.020416 194.234469 \nL 168.676436 195.984753 \nL 172.637124 197.625885 \nL 176.90248 199.146962 \nL 181.472505 200.530977 \nL 186.347197 201.770979 \nL 191.831227 202.933601 \nL 198.229261 204.059189 \nL 206.150637 205.21736 \nL 215.900023 206.403578 \nL 227.782087 207.611686 \nL 242.101497 208.835657 \nL 259.467591 210.087154 \nL 280.185035 211.349406 \nL 304.863168 212.624611 \nL 334.415994 213.922941 \nL 356.047443 214.756364 \nL 356.047443 214.756364 \n\" style=\"fill:none;stroke:#1f77b4;stroke-linecap:square;stroke-width:1.5;\"/>\n   </g>\n   <g id=\"patch_3\">\n    <path d=\"M 36.465625 224.64 \nL 36.465625 7.2 \n\" style=\"fill:none;stroke:#000000;stroke-linecap:square;stroke-linejoin:miter;stroke-width:0.8;\"/>\n   </g>\n   <g id=\"patch_4\">\n    <path d=\"M 371.265625 224.64 \nL 371.265625 7.2 \n\" style=\"fill:none;stroke:#000000;stroke-linecap:square;stroke-linejoin:miter;stroke-width:0.8;\"/>\n   </g>\n   <g id=\"patch_5\">\n    <path d=\"M 36.465625 224.64 \nL 371.265625 224.64 \n\" style=\"fill:none;stroke:#000000;stroke-linecap:square;stroke-linejoin:miter;stroke-width:0.8;\"/>\n   </g>\n   <g id=\"patch_6\">\n    <path d=\"M 36.465625 7.2 \nL 371.265625 7.2 \n\" style=\"fill:none;stroke:#000000;stroke-linecap:square;stroke-linejoin:miter;stroke-width:0.8;\"/>\n   </g>\n  </g>\n </g>\n <defs>\n  <clipPath id=\"p4f159d6202\">\n   <rect height=\"217.44\" width=\"334.8\" x=\"36.465625\" y=\"7.2\"/>\n  </clipPath>\n </defs>\n</svg>\n",
      "image/png": "[encoded data removed]"
     },
     "metadata": {
      "needs_background": "light"
     }
    }
   ],
   "source": [
    "# print(timelist, losslist)\n",
    "plt.plot(timelist, losslist)"
   ]
  },
  {
   "cell_type": "code",
   "execution_count": 15,
   "metadata": {},
   "outputs": [],
   "source": [
    "def result(np_array):\n",
    "    max = np_array[0]\n",
    "    num = 0\n",
    "    for i in range(10):\n",
    "        if np_array[i] > max:\n",
    "            max = np_array[i]\n",
    "            num = i\n",
    "    return num"
   ]
  },
  {
   "cell_type": "code",
   "execution_count": 18,
   "metadata": {},
   "outputs": [
    {
     "output_type": "stream",
     "name": "stdout",
     "text": "[[0. 0. 0. 0. 0. 1. 0. 0. 0. 0.]\n [1. 0. 0. 0. 0. 0. 0. 0. 0. 0.]\n [0. 0. 0. 0. 1. 0. 0. 0. 0. 0.]\n [0. 1. 0. 0. 0. 0. 0. 0. 0. 0.]\n [0. 0. 0. 0. 0. 0. 0. 0. 0. 1.]\n [0. 0. 1. 0. 0. 0. 0. 0. 0. 0.]\n [0. 1. 0. 0. 0. 0. 0. 0. 0. 0.]\n [0. 0. 0. 1. 0. 0. 0. 0. 0. 0.]\n [0. 1. 0. 0. 0. 0. 0. 0. 0. 0.]\n [0. 0. 0. 0. 1. 0. 0. 0. 0. 0.]]\n[[1.1704374e-08 1.5984724e-05 9.5892512e-09 1.8001104e-02 1.0244526e-05\n  9.7741336e-01 4.7392327e-06 4.2368318e-03 2.5118678e-04 6.6508510e-05]\n [3.5954099e-07 8.1684090e-02 5.3551226e-05 2.9366654e-01 2.8333664e-03\n  1.8196195e-02 8.2108108e-03 3.9086664e-01 3.6133755e-02 1.6835465e-01]\n [3.6449748e-07 1.6817506e-04 7.1672027e-08 1.7358104e-04 9.9235886e-01\n  6.6613269e-05 5.6668036e-03 1.3307676e-04 1.3912292e-04 1.2932312e-03]\n [2.6231666e-07 9.7576874e-01 9.5824055e-07 6.8301186e-03 1.0735969e-03\n  3.1937400e-04 1.6074631e-03 5.1503000e-04 1.3791720e-02 9.2621049e-05]\n [1.3574914e-05 3.5806164e-02 1.1011784e-04 4.3873638e-03 3.2937285e-01\n  2.0918488e-03 2.8908052e-03 1.1404330e-02 2.1007909e-01 4.0384385e-01]\n [2.1012458e-08 7.7201184e-03 3.4739999e-06 6.5227300e-03 1.5635103e-03\n  4.0981986e-04 1.9849227e-04 9.2126848e-03 2.8984104e-03 9.7147071e-01]\n [8.1342812e-08 9.9679238e-01 7.0205562e-07 1.4159359e-03 1.8392656e-04\n  8.0516184e-05 2.1589559e-04 2.2455692e-04 9.5932046e-04 1.2657772e-04]\n [3.5281799e-12 2.9469243e-06 2.3083412e-11 9.9967420e-01 1.0470810e-06\n  3.5765443e-06 2.2341776e-06 2.2569009e-06 2.2991243e-04 8.3758016e-05]\n [8.7585300e-05 9.5207423e-01 5.9158466e-04 2.6092280e-03 7.4772858e-03\n  9.3799187e-03 6.0512836e-04 4.3370671e-04 2.3421166e-02 3.3202539e-03]\n [5.4772755e-07 5.0539605e-04 6.9840530e-06 1.0127546e-05 9.8702371e-01\n  3.5977783e-04 8.8951532e-03 3.1082061e-04 1.8634002e-03 1.0239831e-03]]\n0.5\n"
    }
   ],
   "source": [
    "# plt.ion()\n",
    "# for i in range(10):\n",
    "    \n",
    "    # print((TrainLabels.numpy())[i])\n",
    "    # print((prediction.detach().numpy())[i])\n",
    "    # plt.imshow(((TrainImages.numpy())[i]).reshape((28, 28)), cmap='Greys')\n",
    "    # plt.pause(1)\n",
    "\n",
    "CurrLabels = (TrainLabels.numpy())\n",
    "CurrPrediction = (prediction.detach().numpy())\n",
    "\n",
    "# eps = 0.1\n",
    "# print(eps)\n",
    "\n",
    "print(CurrLabels[:10])\n",
    "print(CurrPrediction[:10])\n",
    "\n",
    "CountError = 0\n",
    "CountTotal = 0\n",
    "\n",
    "for i in range(2):\n",
    "    # print(result(CurrLabels[i]))\n",
    "    # print(result(CurrPrediction[i]))\n",
    "    CountTotal += 1\n",
    "    if result(CurrLabels[i]) != result(CurrPrediction[i]):\n",
    "        CountError += 1\n",
    "\n",
    "print(float(CountError)/float(CountTotal))\n",
    "# print(np.max(CurrLabels, axis=1))\n",
    "# print(np.max(CurrPrediction, axis=1))\n",
    "\n",
    "# print((np.where(CurrLabels==np.max(CurrLabels, axis=1))))\n",
    "# print((np.where(abs(CurrPrediction - np.max(CurrPrediction, axis=1))<eps)))"
   ]
  },
  {
   "cell_type": "code",
   "execution_count": 22,
   "metadata": {},
   "outputs": [],
   "source": [
    "# save model\n",
    "torch.save(net.state_dict(), './model-version-1-args')"
   ]
  },
  {
   "cell_type": "code",
   "execution_count": 23,
   "metadata": {},
   "outputs": [
    {
     "output_type": "execute_result",
     "data": {
      "text/plain": "<All keys matched successfully>"
     },
     "metadata": {},
     "execution_count": 23
    }
   ],
   "source": [
    "the_model = CNN()\n",
    "the_model.load_state_dict(torch.load('./model-version-1-args'))"
   ]
  },
  {
   "cell_type": "code",
   "execution_count": 24,
   "metadata": {},
   "outputs": [
    {
     "output_type": "stream",
     "name": "stdout",
     "text": "[[0. 0. 0. 0. 0. 0. 0. 1. 0. 0.]\n [0. 0. 1. 0. 0. 0. 0. 0. 0. 0.]\n [0. 1. 0. 0. 0. 0. 0. 0. 0. 0.]\n [1. 0. 0. 0. 0. 0. 0. 0. 0. 0.]\n [0. 0. 0. 0. 1. 0. 0. 0. 0. 0.]\n [0. 1. 0. 0. 0. 0. 0. 0. 0. 0.]\n [0. 0. 0. 0. 1. 0. 0. 0. 0. 0.]\n [0. 0. 0. 0. 0. 0. 0. 0. 0. 1.]\n [0. 0. 0. 0. 0. 1. 0. 0. 0. 0.]\n [0. 0. 0. 0. 0. 0. 0. 0. 0. 1.]]\n[[6.56450450e-09 5.79560322e-07 4.11982292e-05 1.68482991e-04\n  1.56447499e-07 1.38089973e-07 7.22062077e-10 9.99639750e-01\n  1.54989493e-07 1.49545071e-04]\n [1.17343057e-09 9.61692259e-02 1.68994063e-08 2.24823102e-01\n  1.55917412e-04 3.05709958e-01 1.81896374e-01 6.69854126e-06\n  1.89385489e-01 1.85325753e-03]\n [4.61487653e-05 9.36504424e-01 1.71664709e-04 2.98576965e-03\n  4.04144544e-03 5.49292518e-03 8.04382283e-03 9.60285019e-04\n  3.75147834e-02 4.23862087e-03]\n [1.40459706e-08 3.25975940e-03 8.21679293e-07 7.66204251e-03\n  9.56669828e-05 1.01325706e-01 5.09664940e-04 4.10612710e-02\n  1.24033559e-02 8.33681881e-01]\n [3.40542852e-06 3.58081830e-04 3.24456996e-05 9.05326888e-05\n  7.24709272e-01 2.29701429e-04 1.73701358e-03 2.10419646e-03\n  1.00769359e-03 2.69727647e-01]\n [5.17797635e-05 9.18641925e-01 7.14243564e-04 3.76583682e-03\n  3.98828834e-03 4.90518054e-04 3.79583589e-03 2.02630796e-02\n  4.60492782e-02 2.23932345e-03]\n [1.06406542e-05 6.28871319e-04 5.95101085e-07 8.89922783e-04\n  8.21236432e-01 4.46719974e-02 1.66863855e-03 2.19682872e-04\n  1.28367245e-01 2.30603851e-03]\n [2.02614660e-06 3.09089478e-02 4.26654879e-05 4.20174468e-03\n  2.84994036e-01 5.34587353e-03 2.92676166e-02 3.15119722e-03\n  5.66508695e-02 5.85434973e-01]\n [2.65042274e-07 1.89665481e-01 2.45858423e-09 2.21545429e-06\n  2.05372140e-01 3.98031622e-01 1.83314577e-01 7.15458591e-05\n  2.34403629e-02 1.01817393e-04]\n [2.60517891e-06 4.86321544e-04 3.20814177e-03 2.53498019e-05\n  1.11071235e-02 2.13986477e-05 3.55372322e-06 2.47275442e-01\n  1.87493220e-03 7.35995173e-01]]\n0.265\n"
    }
   ],
   "source": [
    "TestImages_np = LoadImages('t10k-images.idx3-ubyte')\n",
    "TestLabels_np = LoadLabels('t10k-labels.idx1-ubyte')\n",
    "\n",
    "TestImages = torch.from_numpy(TestImages_np)\n",
    "TestImages = torch.tensor(TestImages, dtype=torch.float32)\n",
    "\n",
    "prediction = the_model(TestImages)\n",
    "\n",
    "CurrLabels = TestLabels_np\n",
    "CurrPrediction = (prediction.detach().numpy())\n",
    "\n",
    "# eps = 0.1\n",
    "# print(eps)\n",
    "\n",
    "print(CurrLabels[:10])\n",
    "print(CurrPrediction[:10])\n",
    "\n",
    "CountError = 0\n",
    "CountTotal = 0\n",
    "\n",
    "for i in range(1000):\n",
    "    # print(result(CurrLabels[i]))\n",
    "    # print(result(CurrPrediction[i]))\n",
    "    CountTotal += 1\n",
    "    if result(CurrLabels[i]) != result(CurrPrediction[i]):\n",
    "        CountError += 1\n",
    "\n",
    "print(float(CountError)/float(CountTotal))"
   ]
  },
  {
   "cell_type": "code",
   "execution_count": null,
   "metadata": {},
   "outputs": [],
   "source": []
  }
 ]
}